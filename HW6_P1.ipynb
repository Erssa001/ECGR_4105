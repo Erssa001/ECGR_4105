{
  "nbformat": 4,
  "nbformat_minor": 0,
  "metadata": {
    "colab": {
      "provenance": [],
      "authorship_tag": "ABX9TyNeRqS3nJB3rBQPFrbuZiTI",
      "include_colab_link": true
    },
    "kernelspec": {
      "name": "python3",
      "display_name": "Python 3"
    },
    "language_info": {
      "name": "python"
    }
  },
  "cells": [
    {
      "cell_type": "markdown",
      "metadata": {
        "id": "view-in-github",
        "colab_type": "text"
      },
      "source": [
        "<a href=\"https://colab.research.google.com/github/Erssa001/ECGR_4105/blob/main/HW6_P1.ipynb\" target=\"_parent\"><img src=\"https://colab.research.google.com/assets/colab-badge.svg\" alt=\"Open In Colab\"/></a>"
      ]
    },
    {
      "cell_type": "code",
      "execution_count": null,
      "metadata": {
        "colab": {
          "base_uri": "https://localhost:8080/"
        },
        "id": "oAFTpNZUe8fp",
        "outputId": "db5c9bab-9d7f-4109-e5c0-7265a148858a"
      },
      "outputs": [
        {
          "output_type": "stream",
          "name": "stdout",
          "text": [
            "Drive already mounted at /content/drive; to attempt to forcibly remount, call drive.mount(\"/content/drive\", force_remount=True).\n"
          ]
        }
      ],
      "source": [
        "import numpy as np\n",
        "import warnings\n",
        "warnings.filterwarnings('ignore')\n",
        "import matplotlib.pyplot as plt\n",
        "import pandas as pd\n",
        "\n",
        "import torch\n",
        "import torch.nn as nn\n",
        "import torch.optim as optim\n",
        "torch.set_printoptions(edgeitems=2, linewidth=75)\n",
        "\n",
        "from sklearn.model_selection import train_test_split\n",
        "from sklearn.preprocessing import StandardScaler\n",
        "from sklearn.preprocessing import MinMaxScaler\n",
        "\n",
        "from google.colab import drive\n",
        "drive.mount('/content/drive')"
      ]
    },
    {
      "cell_type": "code",
      "source": [
        "file_path = '/content/drive/My Drive/2023-2024/ECGR_4105/Housing.csv'\n",
        "dataset = pd.DataFrame(pd.read_csv(file_path))\n",
        "\n",
        "bi_vars =  ['mainroad', 'guestroom', 'basement', 'hotwaterheating', 'airconditioning', 'prefarea']\n",
        "num_vars = ['area', 'bedrooms', 'bathrooms', 'stories', 'parking', 'price']\n",
        "\n",
        "# Defining the map function\n",
        "def binary_map(x):\n",
        "    return x.map({'yes': 1, 'no': 0})\n",
        "\n",
        "# Applying the function to the housing list\n",
        "dataset[bi_vars] = dataset[bi_vars].apply(binary_map)\n",
        "# Preprocessing\n",
        "\n",
        "\n",
        "components_to_use = ['area', 'bedrooms','bathrooms','stories','mainroad','guestroom','basement','hotwaterheating','airconditioning', 'parking', 'prefarea']\n",
        "X = torch.tensor(dataset[components_to_use].values.copy(), dtype=torch.float32)\n",
        "\n",
        "scaler = MinMaxScaler()\n",
        "dataset[num_vars] = scaler.fit_transform(dataset[num_vars])\n",
        "X_n = torch.tensor(dataset[components_to_use].values.copy(), dtype=torch.float32)\n",
        "\n",
        "Y = torch.tensor(dataset.pop('price').values, dtype=torch.float32)"
      ],
      "metadata": {
        "id": "kxxY55ZIfzrt"
      },
      "execution_count": null,
      "outputs": []
    },
    {
      "cell_type": "code",
      "source": [
        "n_samples = X.shape[0]\n",
        "n_val = int(0.2 * n_samples)\n",
        "\n",
        "shuffled_indices = torch.randperm(n_samples)\n",
        "\n",
        "train_indices = shuffled_indices[:-n_val]\n",
        "val_indices = shuffled_indices[-n_val:]\n",
        "\n",
        "X_train = X[train_indices]\n",
        "Y_train = Y[train_indices]\n",
        "\n",
        "X_test = X[val_indices]\n",
        "Y_test = Y[val_indices]\n",
        "\n",
        "X_n_train = X_n[train_indices]\n",
        "X_n_test = X_n[val_indices]"
      ],
      "metadata": {
        "id": "gnkQwZJkdC2q"
      },
      "execution_count": null,
      "outputs": []
    },
    {
      "cell_type": "code",
      "source": [
        "def training_loop(n_epochs, optimizer, model, loss_fn, X_train, X_test, Y_train, Y_test):\n",
        "  plotted_loss = np.zeros(n_epochs)\n",
        "  for epoch in range(1, n_epochs + 1):\n",
        "    Y_pred_train = model(X_train)\n",
        "    train_loss = loss_fn(Y_pred_train, Y_train)\n",
        "\n",
        "    with torch.no_grad(): # <1>\n",
        "      Y_pred_test = model(X_test)\n",
        "      test_loss = loss_fn(Y_pred_test, Y_test)\n",
        "      plotted_loss[epoch - 1] = test_loss\n",
        "      assert test_loss.requires_grad == False # <2>\n",
        "\n",
        "    optimizer.zero_grad()\n",
        "    train_loss.backward()\n",
        "    optimizer.step()\n",
        "    if ((epoch == 1) or (epoch % 1000 == 0)):\n",
        "      print(f\"Epoch {epoch}, Training loss {train_loss.item():.4f}, Validation loss {test_loss.item():.4f}\")\n",
        "\n",
        "  return plotted_loss"
      ],
      "metadata": {
        "id": "P5GQIVm4OtXo"
      },
      "execution_count": null,
      "outputs": []
    },
    {
      "cell_type": "code",
      "source": [
        "linear_model = nn.Linear(X.shape[1], 1)\n",
        "\n",
        "seq_model_1 = nn.Sequential(\n",
        "  nn.Linear(X.shape[1], 32),\n",
        "  nn.Tanh(),\n",
        "  nn.Linear(32, 1)\n",
        ")\n",
        "\n",
        "seq_model_2 = nn.Sequential(\n",
        "  nn.Linear(X.shape[1], 32),\n",
        "  nn.Tanh(),\n",
        "  nn.Linear(32, 64),\n",
        "  nn.Tanh(),\n",
        "  nn.Linear(64, 16),\n",
        "  nn.Tanh(),\n",
        "  nn.Linear(16, 1)\n",
        ")\n",
        "\n",
        "linear_optimizer = optim.SGD(linear_model.parameters(), lr=1e-3)\n",
        "seq_optimizer_1 = optim.SGD(seq_model_1.parameters(), lr=1e-3)\n",
        "seq_optimizer_2 = optim.SGD(seq_model_2.parameters(), lr=1e-3)\n",
        "\n",
        "epochs = 10000\n",
        "\n",
        "lin_reg = training_loop(\n",
        "    n_epochs = epochs,\n",
        "    optimizer = linear_optimizer,\n",
        "    model = linear_model,\n",
        "    loss_fn = nn.MSELoss(),\n",
        "    X_train = X_n_train, # <1>\n",
        "    X_test = X_n_test, # <1>\n",
        "    Y_train = Y_train,\n",
        "    Y_test = Y_test)\n",
        "\n",
        "single_seq = training_loop(\n",
        "    n_epochs = epochs,\n",
        "    optimizer = seq_optimizer_1,\n",
        "    model = seq_model_1,\n",
        "    loss_fn = nn.MSELoss(),\n",
        "    X_train = X_n_train, # <1>\n",
        "    X_test = X_n_test, # <1>\n",
        "    Y_train = Y_train,\n",
        "    Y_test = Y_test)\n",
        "\n",
        "multi_seq = training_loop(\n",
        "    n_epochs = epochs,\n",
        "    optimizer = seq_optimizer_2,\n",
        "    model = seq_model_2,\n",
        "    loss_fn = nn.MSELoss(),\n",
        "    X_train = X_n_train, # <1>\n",
        "    X_test = X_n_test, # <1>\n",
        "    Y_train = Y_train,\n",
        "    Y_test = Y_test)\n",
        "\n",
        "# for name, param in seq_model.named_parameters():\n",
        "#     print(f\"Parameter name: {name}, Size: {param.size()}\")"
      ],
      "metadata": {
        "colab": {
          "base_uri": "https://localhost:8080/"
        },
        "id": "yaqcaxpsXSTK",
        "outputId": "983a9f23-4e32-4bdd-a0b4-4bd32e2c54fc"
      },
      "execution_count": null,
      "outputs": [
        {
          "output_type": "stream",
          "name": "stdout",
          "text": [
            "Epoch 1, Training loss 0.1272, Validation loss 0.1365\n",
            "Epoch 1000, Training loss 0.0437, Validation loss 0.0519\n",
            "Epoch 2000, Training loss 0.0334, Validation loss 0.0419\n",
            "Epoch 3000, Training loss 0.0291, Validation loss 0.0377\n",
            "Epoch 4000, Training loss 0.0272, Validation loss 0.0357\n",
            "Epoch 5000, Training loss 0.0262, Validation loss 0.0347\n",
            "Epoch 6000, Training loss 0.0257, Validation loss 0.0341\n",
            "Epoch 7000, Training loss 0.0254, Validation loss 0.0338\n",
            "Epoch 8000, Training loss 0.0252, Validation loss 0.0336\n",
            "Epoch 9000, Training loss 0.0250, Validation loss 0.0334\n",
            "Epoch 10000, Training loss 0.0249, Validation loss 0.0333\n",
            "Epoch 1, Training loss 0.3689, Validation loss 0.3679\n",
            "Epoch 1000, Training loss 0.0294, Validation loss 0.0381\n",
            "Epoch 2000, Training loss 0.0270, Validation loss 0.0355\n",
            "Epoch 3000, Training loss 0.0259, Validation loss 0.0344\n",
            "Epoch 4000, Training loss 0.0254, Validation loss 0.0339\n",
            "Epoch 5000, Training loss 0.0252, Validation loss 0.0336\n",
            "Epoch 6000, Training loss 0.0250, Validation loss 0.0334\n",
            "Epoch 7000, Training loss 0.0249, Validation loss 0.0333\n",
            "Epoch 8000, Training loss 0.0249, Validation loss 0.0333\n",
            "Epoch 9000, Training loss 0.0248, Validation loss 0.0332\n",
            "Epoch 10000, Training loss 0.0248, Validation loss 0.0332\n",
            "Epoch 1, Training loss 0.2665, Validation loss 0.2748\n",
            "Epoch 1000, Training loss 0.0252, Validation loss 0.0335\n",
            "Epoch 2000, Training loss 0.0251, Validation loss 0.0334\n",
            "Epoch 3000, Training loss 0.0250, Validation loss 0.0333\n",
            "Epoch 4000, Training loss 0.0249, Validation loss 0.0332\n",
            "Epoch 5000, Training loss 0.0249, Validation loss 0.0331\n",
            "Epoch 6000, Training loss 0.0248, Validation loss 0.0331\n",
            "Epoch 7000, Training loss 0.0248, Validation loss 0.0331\n",
            "Epoch 8000, Training loss 0.0248, Validation loss 0.0330\n",
            "Epoch 9000, Training loss 0.0247, Validation loss 0.0330\n",
            "Epoch 10000, Training loss 0.0247, Validation loss 0.0330\n"
          ]
        }
      ]
    },
    {
      "cell_type": "code",
      "source": [
        "# Plotting the losses\n",
        "plt.plot(range(epochs), lin_reg, label='linear regression')\n",
        "plt.plot(range(epochs), single_seq, label='single-layer sequential')\n",
        "plt.plot(range(epochs), multi_seq, label='muli-layer sequential')\n",
        "\n",
        "# Adding labels and title\n",
        "plt.xlabel('Epochs')\n",
        "plt.ylabel('Loss')\n",
        "plt.title('Loss Comparison of Three Networks')\n",
        "\n",
        "# Adding legend\n",
        "plt.legend()\n",
        "\n",
        "# Show the plot\n",
        "plt.show()"
      ],
      "metadata": {
        "colab": {
          "base_uri": "https://localhost:8080/",
          "height": 472
        },
        "id": "_nBVKzovHEbP",
        "outputId": "10421198-b8fe-4fd3-f403-dd206cf789ae"
      },
      "execution_count": null,
      "outputs": [
        {
          "output_type": "display_data",
          "data": {
            "text/plain": [
              "<Figure size 640x480 with 1 Axes>"
            ],
            "image/png": "[encoded data removed]"
          },
          "metadata": {}
        }
      ]
    }
  ]
}